{
 "cells": [
  {
   "cell_type": "code",
   "execution_count": 8,
   "id": "ca923117",
   "metadata": {},
   "outputs": [],
   "source": [
    "import numpy as np\n",
    "from sklearn.datasets import load_iris\n",
    "from sklearn.model_selection import train_test_split\n",
    "from sklearn.metrics import accuracy_score, confusion_matrix, classification_report\n"
   ]
  },
  {
   "cell_type": "code",
   "execution_count": 9,
   "id": "df70e9d5",
   "metadata": {},
   "outputs": [],
   "source": [
    "# Step 1: Load the Iris dataset\n",
    "iris = load_iris()\n",
    "X = iris.data\n",
    "y = iris.target"
   ]
  },
  {
   "cell_type": "code",
   "execution_count": 10,
   "id": "27759e88",
   "metadata": {},
   "outputs": [],
   "source": [
    "# Step 2: Preprocess the data\n",
    "# Convert to binary classification: Iris Setosa (class 0) vs. others (class 1)\n",
    "y_binary = (y == 0).astype(int)\n",
    "\n",
    "# Step 3: Split the dataset into training and testing sets\n",
    "X_train, X_test, y_train, y_test = train_test_split(X, y_binary, test_size=0.2, random_state=42)"
   ]
  },
  {
   "cell_type": "code",
   "execution_count": 11,
   "id": "b6bf0de9",
   "metadata": {},
   "outputs": [],
   "source": [
    "# Step 4: Define the logistic loss function (cost function)\n",
    "def logistic_loss(y_true, y_pred):\n",
    "    epsilon = 1e-15  # Small constant to prevent log(0)\n",
    "    y_pred = np.clip(y_pred, epsilon, 1 - epsilon)  # Clip values to avoid log(0)\n",
    "    return -np.mean(y_true * np.log(y_pred) + (1 - y_true) * np.log(1 - y_pred))\n",
    "\n",
    "# Step 5: Define the training function using gradient descent\n",
    "def train_logistic_regression(X_train, y_train, learning_rate, num_iterations, regularization_param):\n",
    "    m, n = X_train.shape\n",
    "    W = np.zeros(n)  # Initialize weights to zeros\n",
    "    b = 0  # Initialize bias to zero\n",
    "    \n",
    "    for iteration in range(num_iterations):\n",
    "        # Compute the sigmoid function and predicted probabilities\n",
    "        z = np.dot(X_train, W) + b\n",
    "        y_pred = 1 / (1 + np.exp(-z))\n",
    "        \n",
    "        # Compute gradients for weights and bias\n",
    "        dw = (1 / m) * np.dot(X_train.T, (y_pred - y_train))\n",
    "        db = (1 / m) * np.sum(y_pred - y_train)\n",
    "        \n",
    "        # Regularization term for weights (L2 regularization)\n",
    "        dw += (regularization_param / m) * W\n",
    "        \n",
    "        # Update weights and bias\n",
    "        W -= learning_rate * dw\n",
    "        b -= learning_rate * db\n",
    "    \n",
    "    return W, b"
   ]
  },
  {
   "cell_type": "code",
   "execution_count": 12,
   "id": "642345aa",
   "metadata": {},
   "outputs": [],
   "source": [
    "# Step 6: Train the logistic regression model\n",
    "learning_rate = 0.01\n",
    "num_iterations = 1000\n",
    "regularization_param = 0.1\n",
    "W, b = train_logistic_regression(X_train, y_train, learning_rate, num_iterations, regularization_param)\n",
    "\n",
    "# Step 7: Define the prediction function\n",
    "def predict_logistic_regression(X, W, b):\n",
    "    z = np.dot(X, W) + b\n",
    "    y_pred = 1 / (1 + np.exp(-z))\n",
    "    return (y_pred >= 0.5).astype(int)\n"
   ]
  },
  {
   "cell_type": "code",
   "execution_count": 13,
   "id": "480a7963",
   "metadata": {},
   "outputs": [
    {
     "name": "stdout",
     "output_type": "stream",
     "text": [
      "Accuracy: 1.0\n",
      "Confusion Matrix:\n",
      " [[20  0]\n",
      " [ 0 10]]\n",
      "Classification Report:\n",
      "               precision    recall  f1-score   support\n",
      "\n",
      "           0       1.00      1.00      1.00        20\n",
      "           1       1.00      1.00      1.00        10\n",
      "\n",
      "    accuracy                           1.00        30\n",
      "   macro avg       1.00      1.00      1.00        30\n",
      "weighted avg       1.00      1.00      1.00        30\n",
      "\n"
     ]
    }
   ],
   "source": [
    "# Step 8: Predict on the test set\n",
    "y_pred = predict_logistic_regression(X_test, W, b)\n",
    "\n",
    "# Step 9: Evaluate the model's performance\n",
    "accuracy = accuracy_score(y_test, y_pred)\n",
    "confusion = confusion_matrix(y_test, y_pred)\n",
    "classification_rep = classification_report(y_test, y_pred)\n",
    "\n",
    "# Print the results\n",
    "print(\"Accuracy:\", accuracy)\n",
    "print(\"Confusion Matrix:\\n\", confusion)\n",
    "print(\"Classification Report:\\n\", classification_rep)"
   ]
  },
  {
   "cell_type": "code",
   "execution_count": null,
   "id": "d0dde83f",
   "metadata": {},
   "outputs": [],
   "source": []
  }
 ],
 "metadata": {
  "kernelspec": {
   "display_name": "Python 3 (ipykernel)",
   "language": "python",
   "name": "python3"
  },
  "language_info": {
   "codemirror_mode": {
    "name": "ipython",
    "version": 3
   },
   "file_extension": ".py",
   "mimetype": "text/x-python",
   "name": "python",
   "nbconvert_exporter": "python",
   "pygments_lexer": "ipython3",
   "version": "3.11.4"
  },
  "varInspector": {
   "cols": {
    "lenName": 16,
    "lenType": 16,
    "lenVar": 40
   },
   "kernels_config": {
    "python": {
     "delete_cmd_postfix": "",
     "delete_cmd_prefix": "del ",
     "library": "var_list.py",
     "varRefreshCmd": "print(var_dic_list())"
    },
    "r": {
     "delete_cmd_postfix": ") ",
     "delete_cmd_prefix": "rm(",
     "library": "var_list.r",
     "varRefreshCmd": "cat(var_dic_list()) "
    }
   },
   "types_to_exclude": [
    "module",
    "function",
    "builtin_function_or_method",
    "instance",
    "_Feature"
   ],
   "window_display": false
  }
 },
 "nbformat": 4,
 "nbformat_minor": 5
}
