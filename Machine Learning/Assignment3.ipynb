{
 "cells": [
  {
   "cell_type": "code",
   "execution_count": 41,
   "id": "91206e1f",
   "metadata": {},
   "outputs": [],
   "source": [
    "\n",
    "# 1. Importing Libraries\n",
    "import tensorflow as tf\n",
    "from tensorflow.keras.datasets import mnist\n",
    "from tensorflow.keras.utils import to_categorical\n",
    "from tensorflow.keras.models import Sequential\n",
    "from tensorflow.keras.layers import Flatten, Dense"
   ]
  },
  {
   "cell_type": "code",
   "execution_count": 42,
   "id": "8e200066",
   "metadata": {},
   "outputs": [],
   "source": [
    "# 2. Loading the MNIST Dataset\n",
    "(train_images, train_labels), (test_images, test_labels) = mnist.load_data()\n",
    "\n",
    "# 3. Data Preprocessing\n",
    "# Normalize pixel values to be between 0 and 1\n",
    "train_images = train_images.astype('float32') / 255.0\n",
    "test_images = test_images.astype('float32') / 255.0\n",
    "\n",
    "# 4. One-Hot Encoding\n",
    "# One-hot encode the labels\n",
    "train_labels = to_categorical(train_labels)\n",
    "test_labels = to_categorical(test_labels)\n"
   ]
  },
  {
   "cell_type": "code",
   "execution_count": 43,
   "id": "2e1c2267",
   "metadata": {},
   "outputs": [],
   "source": [
    "# 5. Custom Dense Layer\n",
    "class CustomDenseLayer(tf.keras.layers.Layer):\n",
    "    def __init__(self, units, activation):\n",
    "        super(CustomDenseLayer, self).__init__()\n",
    "        self.units = units\n",
    "        self.activation = activation\n",
    "\n",
    "    def build(self, input_shape):\n",
    "        self.w = self.add_weight(shape=(input_shape[-1], self.units), initializer='random_normal', trainable=True)\n",
    "        self.b = self.add_weight(shape=(self.units,), initializer='zeros', trainable=True)\n",
    "\n",
    "    def call(self, inputs):\n",
    "        z = tf.matmul(inputs, self.w) + self.b\n",
    "        return self.activation(z)\n"
   ]
  },
  {
   "cell_type": "code",
   "execution_count": 44,
   "id": "b1d7c0b5",
   "metadata": {},
   "outputs": [],
   "source": [
    "# Step 6: Define Neural Network Architecture\n",
    "model = Sequential([\n",
    "    Flatten(input_shape=(28, 28)),  # Input layer for MNIST images\n",
    "    CustomDenseLayer(128, tf.nn.relu),  # Custom dense layer with 128 units and ReLU activation\n",
    "    CustomDenseLayer(10, tf.nn.softmax)  # Custom dense layer with 10 units (output layer) and softmax activation\n",
    "])"
   ]
  },
  {
   "cell_type": "code",
   "execution_count": 45,
   "id": "73304f7c",
   "metadata": {},
   "outputs": [],
   "source": [
    "# 7. Custom Loss Function (custom_sparse_categorical_crossentropy)\n",
    "def custom_sparse_categorical_crossentropy(y_true, y_pred):\n",
    "    return -tf.reduce_mean(tf.math.log(tf.reduce_sum(y_true * y_pred, axis=-1) + 1e-10))"
   ]
  },
  {
   "cell_type": "code",
   "execution_count": 46,
   "id": "55b7dd9b",
   "metadata": {},
   "outputs": [],
   "source": [
    "\n",
    "# 8. Custom Accuracy Metric (custom_accuracy)\n",
    "def custom_accuracy(y_true, y_pred):\n",
    "    correct_predictions = tf.equal(tf.argmax(y_true, axis=-1), tf.argmax(y_pred, axis=-1))\n",
    "    return tf.reduce_mean(tf.cast(correct_predictions, tf.float32))\n"
   ]
  },
  {
   "cell_type": "code",
   "execution_count": 47,
   "id": "668b13a1",
   "metadata": {},
   "outputs": [
    {
     "name": "stdout",
     "output_type": "stream",
     "text": [
      "Epoch 1/5\n",
      "1500/1500 [==============================] - 6s 3ms/step - loss: 0.3207 - custom_accuracy: 0.9089 - val_loss: 0.1719 - val_custom_accuracy: 0.9532\n",
      "Epoch 2/5\n",
      "1500/1500 [==============================] - 5s 3ms/step - loss: 0.1381 - custom_accuracy: 0.9608 - val_loss: 0.1219 - val_custom_accuracy: 0.9646\n",
      "Epoch 3/5\n",
      "1500/1500 [==============================] - 5s 3ms/step - loss: 0.0927 - custom_accuracy: 0.9727 - val_loss: 0.1057 - val_custom_accuracy: 0.9678\n",
      "Epoch 4/5\n",
      "1500/1500 [==============================] - 5s 3ms/step - loss: 0.0692 - custom_accuracy: 0.9793 - val_loss: 0.0894 - val_custom_accuracy: 0.9719\n",
      "Epoch 5/5\n",
      "1500/1500 [==============================] - 5s 3ms/step - loss: 0.0524 - custom_accuracy: 0.9842 - val_loss: 0.0878 - val_custom_accuracy: 0.9737\n"
     ]
    },
    {
     "data": {
      "text/plain": [
       "<keras.src.callbacks.History at 0x1d4af278690>"
      ]
     },
     "execution_count": 47,
     "metadata": {},
     "output_type": "execute_result"
    }
   ],
   "source": [
    "# 9. Model Compilation\n",
    "model.compile(optimizer='adam', loss=custom_sparse_categorical_crossentropy, metrics=[custom_accuracy])\n",
    "\n",
    "# 10. Model Training\n",
    "model.fit(train_images, train_labels, epochs=5, batch_size=32, validation_split=0.2)\n"
   ]
  },
  {
   "cell_type": "code",
   "execution_count": 48,
   "id": "6280eb4e",
   "metadata": {},
   "outputs": [
    {
     "name": "stdout",
     "output_type": "stream",
     "text": [
      "313/313 [==============================] - 1s 2ms/step - loss: 0.0795 - custom_accuracy: 0.9762\n",
      "Test accuracy: 97.62%\n"
     ]
    }
   ],
   "source": [
    "# 11. Model Evaluation\n",
    "test_loss, test_accuracy = model.evaluate(test_images, test_labels)\n",
    "print(f'Test accuracy: {test_accuracy * 100:.2f}%')"
   ]
  }
 ],
 "metadata": {
  "kernelspec": {
   "display_name": "Python 3 (ipykernel)",
   "language": "python",
   "name": "python3"
  },
  "language_info": {
   "codemirror_mode": {
    "name": "ipython",
    "version": 3
   },
   "file_extension": ".py",
   "mimetype": "text/x-python",
   "name": "python",
   "nbconvert_exporter": "python",
   "pygments_lexer": "ipython3",
   "version": "3.11.4"
  },
  "varInspector": {
   "cols": {
    "lenName": 16,
    "lenType": 16,
    "lenVar": 40
   },
   "kernels_config": {
    "python": {
     "delete_cmd_postfix": "",
     "delete_cmd_prefix": "del ",
     "library": "var_list.py",
     "varRefreshCmd": "print(var_dic_list())"
    },
    "r": {
     "delete_cmd_postfix": ") ",
     "delete_cmd_prefix": "rm(",
     "library": "var_list.r",
     "varRefreshCmd": "cat(var_dic_list()) "
    }
   },
   "types_to_exclude": [
    "module",
    "function",
    "builtin_function_or_method",
    "instance",
    "_Feature"
   ],
   "window_display": false
  }
 },
 "nbformat": 4,
 "nbformat_minor": 5
}
